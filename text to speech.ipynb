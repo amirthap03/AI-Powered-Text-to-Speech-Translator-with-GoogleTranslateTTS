{
 "cells": [
  {
   "cell_type": "code",
   "execution_count": null,
   "metadata": {},
   "outputs": [],
   "source": [
    "pip install gTTS googletrans==4.0.0-rc1\n"
   ]
  },
  {
   "cell_type": "code",
   "execution_count": 1,
   "metadata": {},
   "outputs": [
    {
     "name": "stdout",
     "output_type": "stream",
     "text": [
      "Translated text (ta): AI இன் உலகத்திற்கு வருக\n"
     ]
    }
   ],
   "source": [
    "from gtts import gTTS\n",
    "from googletrans import Translator\n",
    "import os\n",
    "def text_to_speech_with_translation(text, target_language=\"ta\"):\n",
    "    # Translate the text to the target language\n",
    "    translator = Translator()\n",
    "    translation = translator.translate(text, dest=target_language)\n",
    "    translated_text = translation.text\n",
    "    print(f\"Translated text ({target_language}): {translated_text}\")\n",
    "\n",
    "    # Convert translated text to speech in the target language\n",
    "    tts = gTTS(text=translated_text, lang=target_language, slow=False)\n",
    "    tts.save(\"translated_speech.mp3\")\n",
    "\n",
    "    # Play the translated speech\n",
    "    os.system(\"start translated_speech.mp3\")\n",
    "\n",
    "if __name__ == \"__main__\":\n",
    "    input_text = input(\"Enter the English text to translate and convert to speech: \")\n",
    "    text_to_speech_with_translation(input_text)\n",
    "\n"
   ]
  }
 ],
 "metadata": {
  "kernelspec": {
   "display_name": "Python 3",
   "language": "python",
   "name": "python3"
  },
  "language_info": {
   "codemirror_mode": {
    "name": "ipython",
    "version": 3
   },
   "file_extension": ".py",
   "mimetype": "text/x-python",
   "name": "python",
   "nbconvert_exporter": "python",
   "pygments_lexer": "ipython3",
   "version": "3.10.9"
  },
  "orig_nbformat": 4
 },
 "nbformat": 4,
 "nbformat_minor": 2
}
